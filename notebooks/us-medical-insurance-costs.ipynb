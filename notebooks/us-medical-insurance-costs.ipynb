{
 "cells": [
  {
   "cell_type": "markdown",
   "metadata": {},
   "source": [
    "# U.S. Medical Insurance Costs"
   ]
  },
  {
   "cell_type": "markdown",
   "metadata": {},
   "source": [
    "## Project Scope\n",
    "### Goals: \n",
    " \t1.\tPercentage Analysis of Smokers by Region:\n",
    "Calculate the percentage of smokers and non-smokers for each region.\n",
    "\t\n",
    "\t2.\tAverage Charges for Smokers and Non-Smokers:\n",
    "Determine the average insurance charges for smokers and non-smokers, broken down by region.\n",
    "\t\n",
    "\t3.\tCorrelation Between Age and Smoking Habit:\n",
    "Check if there’s a statistical relationship (e.g., correlation coefficient) between age and smoking status.\n",
    "\t\n",
    "\t\tPreconditions\n",
    "\n",
    "\t\tBefore calculating  r_{pb} , ensure the following:\n",
    "\t\t\t1.\tBinary Variable (Smoking Habit):\n",
    "\t\t\t•\tSmoking status must be coded as a binary variable (e.g., 1 for smoker, 0 for non-smoker).\n",
    "\t\t\t2.\tContinuous Variable (Age):\n",
    "\t\t\t•\tThe age data should be numerical and continuous (not grouped into ranges).\n",
    "\t\t\t3.\tNo Extreme Outliers:\n",
    "\t\t\t•\tSignificant outliers in age might distort the correlation and should be addressed.\n",
    "\t\t\t4.\tSufficient Sample Size:\n",
    "\t\t\t•\tBoth groups (smokers and non-smokers) should have enough samples for a meaningful comparison.\n",
    "\n",
    "\t4.\tBMI Impact on Smoking and Insurance Costs:\n",
    "Explore how BMI varies between smokers and non-smokers and how it influences insurance charges.\n",
    "\t\n",
    "\t5.\tChildren’s Influence on Costs:\n",
    "Analyze whether the number of children affects insurance costs differently for smokers versus non-smokers.\n"
   ]
  },
  {
   "cell_type": "markdown",
   "metadata": {},
   "source": [
    "Import data"
   ]
  },
  {
   "cell_type": "code",
   "execution_count": 1,
   "metadata": {},
   "outputs": [],
   "source": [
    "import csv\n",
    "\n",
    "with open(\"../data/processed/insurance.csv\") as data:\n",
    "    records = csv.DictReader(data)\n",
    "    data = [row for row in records]\n",
    "        "
   ]
  },
  {
   "cell_type": "markdown",
   "metadata": {},
   "source": [
    "Calculate the percentage of smokers and non-smokers for each region.\n",
    "- total in each region\n",
    "\n",
    "- percentage of smokes and non-smokes"
   ]
  },
  {
   "cell_type": "code",
   "execution_count": null,
   "metadata": {},
   "outputs": [
    {
     "data": {
      "text/plain": [
       "{'northeast': [[0.21, 0.79]],\n",
       " 'northwest': [[0.18, 0.82]],\n",
       " 'southeast': [[0.25, 0.75]],\n",
       " 'southweast': [[0.18, 0.82]]}"
      ]
     },
     "execution_count": 3,
     "metadata": {},
     "output_type": "execute_result"
    }
   ],
   "source": [
    "# number of smokers, non-smokers and the total number of entries\n",
    "total_entries = len(data)\n",
    "smokers = [data[i][\"smoker\"] for i, _ in enumerate(data) if data[i][\"smoker\"] == \"yes\"]\n",
    "non_smokers = [data[i][\"smoker\"] for i, _ in enumerate(data) if data[i][\"smoker\"] == \"no\"]\n",
    "num_smokers = len(smokers)\n",
    "num_non_smokers = len(non_smokers)\n",
    "\n",
    "# set of regions checks how many unique regions we have\n",
    "regions = {data[i][\"region\"] for i, _ in enumerate(data)}\n",
    "regions\n",
    "\n",
    "# four lists to represent NE, NW, SE, SW\n",
    "ne = [data[i][\"region\"] for i, _ in enumerate(data) if data[i][\"region\"] == \"northeast\"]\n",
    "nw = [data[i][\"region\"] for i, _ in enumerate(data) if data[i][\"region\"] == \"northwest\"]\n",
    "se = [data[i][\"region\"] for i, _ in enumerate(data) if data[i][\"region\"] == \"southeast\"]\n",
    "sw = [data[i][\"region\"] for i, _ in enumerate(data) if data[i][\"region\"] == \"southwest\"]\n",
    "# create 8 dict lists from data dict \n",
    "ne_smokers = []\n",
    "ne_non_smokers = []\n",
    "nw_smokers = []\n",
    "nw_non_smokers = []\n",
    "se_smokers = []\n",
    "se_non_smokers = []\n",
    "sw_smokers = []\n",
    "sw_non_smokers = []\n",
    "\n",
    "\n",
    "for i, entry in enumerate(data):\n",
    "    if data[i][\"region\"] == \"northeast\" and data[i][\"smoker\"] == \"yes\":\n",
    "        ne_smokers.append(entry)\n",
    "    elif data[i][\"region\"] == \"northeast\" and data[i][\"smoker\"] == \"no\":\n",
    "        ne_non_smokers.append(entry)\n",
    "    if data[i][\"region\"] == \"northwest\" and data[i][\"smoker\"] == \"yes\":\n",
    "        nw_smokers.append(entry)\n",
    "    elif data[i][\"region\"] == \"northwest\" and data[i][\"smoker\"] == \"no\":\n",
    "        nw_non_smokers.append(entry)\n",
    "    if data[i][\"region\"] == \"southeast\" and data[i][\"smoker\"] == \"yes\":\n",
    "        se_smokers.append(entry)\n",
    "    elif data[i][\"region\"] == \"southeast\" and data[i][\"smoker\"] == \"no\":\n",
    "        se_non_smokers.append(entry)\n",
    "    if data[i][\"region\"] == \"southwest\" and data[i][\"smoker\"] == \"yes\":\n",
    "        sw_smokers.append(entry)\n",
    "    elif data[i][\"region\"] == \"southwest\" and data[i][\"smoker\"] == \"no\":\n",
    "        sw_non_smokers.append(entry)\n",
    "\n",
    "percentages_smoke_non_smoke = {\n",
    "    \"northeast\": [],\n",
    "    \"northwest\": [],\n",
    "    \"southeast\": [],\n",
    "    \"southweast\": []\n",
    "}\n",
    "\n",
    "percentages_smoke_non_smoke[\"northeast\"].append([round(len(ne_smokers)/len(ne), 2), round(len(ne_non_smokers)/len(ne), 2)])\n",
    "percentages_smoke_non_smoke[\"northwest\"].append([round(len(nw_smokers)/len(nw), 2), round(len(nw_non_smokers)/len(nw), 2)])\n",
    "percentages_smoke_non_smoke[\"southeast\"].append([round(len(se_smokers)/len(se), 2), round(len(se_non_smokers)/len(se), 2)])\n",
    "percentages_smoke_non_smoke[\"southweast\"].append([round(len(sw_smokers)/len(sw), 2), round(len(sw_non_smokers)/len(sw), 2)])\n",
    "\n",
    "percentages_smoke_non_smoke\n"
   ]
  },
  {
   "cell_type": "markdown",
   "metadata": {},
   "source": [
    "\t2.\tAverage Charges for Smokers and Non-Smokers:\n",
    "Determine the average insurance charges for smokers and non-smokers, broken down by region."
   ]
  },
  {
   "cell_type": "code",
   "execution_count": 4,
   "metadata": {},
   "outputs": [
    {
     "data": {
      "text/plain": [
       "(-20508.01, -21635.54, -26812.78, -26258.77)"
      ]
     },
     "execution_count": 4,
     "metadata": {},
     "output_type": "execute_result"
    }
   ],
   "source": [
    "ne_smokers_charges = [float(entry[\"charges\"]) for entry in ne_smokers]\n",
    "ne_smokers_avg_charges = round(sum(ne_smokers_charges)/len(ne_smokers_charges), 2)\n",
    "ne_non_smokers_charges = [float(entry[\"charges\"]) for entry in ne_non_smokers]\n",
    "ne_non_smokers_avg_charges = round(sum(ne_non_smokers_charges)/len(ne_non_smokers_charges), 2)\n",
    "ne_delta_smoke_charges = round(ne_non_smokers_avg_charges - ne_smokers_avg_charges, 2)\n",
    "\n",
    "nw_smokers_charges = [float(entry[\"charges\"]) for entry in nw_smokers]\n",
    "nw_smokers_avg_charges = round(sum(nw_smokers_charges)/len(nw_smokers_charges), 2)\n",
    "nw_non_smokers_charges = [float(entry[\"charges\"]) for entry in nw_non_smokers]\n",
    "nw_non_smokers_avg_charges = round(sum(nw_non_smokers_charges)/len(nw_non_smokers_charges), 2)\n",
    "nw_delta_smoke_charges = round(nw_non_smokers_avg_charges - nw_smokers_avg_charges, 2)\n",
    "\n",
    "se_smokers_charges = [float(entry[\"charges\"]) for entry in se_smokers]\n",
    "se_smokers_avg_charges = round(sum(se_smokers_charges)/len(se_smokers_charges), 2)\n",
    "se_non_smokers_charges = [float(entry[\"charges\"]) for entry in se_non_smokers]\n",
    "se_non_smokers_avg_charges = round(sum(se_non_smokers_charges)/len(se_non_smokers_charges), 2)\n",
    "se_delta_smoke_charges = round(se_non_smokers_avg_charges - se_smokers_avg_charges, 2)\n",
    "\n",
    "sw_smokers_charges = [float(entry[\"charges\"]) for entry in sw_smokers]\n",
    "sw_smokers_avg_charges = round(sum(ne_smokers_charges)/len(sw_smokers_charges), 2)\n",
    "sw_non_smokers_charges = [float(entry[\"charges\"]) for entry in sw_non_smokers]\n",
    "sw_non_smokers_avg_charges = round(sum(sw_non_smokers_charges)/len(sw_non_smokers_charges), 2)\n",
    "sw_delta_smoke_charges = round(sw_non_smokers_avg_charges - sw_smokers_avg_charges, 2)\n",
    "\n",
    "ne_delta_smoke_charges, nw_delta_smoke_charges, se_delta_smoke_charges, sw_delta_smoke_charges\n"
   ]
  },
  {
   "cell_type": "markdown",
   "metadata": {},
   "source": [
    "3.\tCorrelation Between Age and Smoking Habit:\n",
    "Check if there’s a statistical relationship (e.g., correlation coefficient) between age and smoking status.\n",
    "\t\n",
    "\t\tPreconditions\n",
    "\n",
    "\t\tBefore calculating  r_{pb} , ensure the following:\n",
    "\t\t\t1.\tBinary Variable (Smoking Habit):\n",
    "\t\t\t•\tSmoking status must be coded as a binary variable (e.g., 1 for smoker, 0 for non-smoker).\n",
    "\t\t\t2.\tContinuous Variable (Age):\n",
    "\t\t\t•\tThe age data should be numerical and continuous (not grouped into ranges).\n",
    "\t\t\t3.\tNo Extreme Outliers:\n",
    "\t\t\t•\tSignificant outliers in age might distort the correlation and should be addressed.\n",
    "\t\t\t4.\tSufficient Sample Size:\n",
    "\t\t\t•\tBoth groups (smokers and non-smokers) should have enough samples for a meaningful comparison."
   ]
  },
  {
   "cell_type": "code",
   "execution_count": null,
   "metadata": {},
   "outputs": [],
   "source": [
    "age_smoking = [[entry[\"age\"], entry[\"smoker\"]] for entry in data]\n",
    "for entry in age_smoking:\n",
    "    if entry[1] == \"yes\":\n",
    "        entry[1] = 1\n",
    "    elif entry[1] == \"no\":\n",
    "        entry[1] = 0\n",
    "    else:\n",
    "        entry[1] == \"n/a\"\n",
    "    entry[0] = int(entry[0])\n",
    "    \n"
   ]
  },
  {
   "cell_type": "markdown",
   "metadata": {},
   "source": [
    "Interquartile Range (IQR) Method\n",
    "\n",
    "\t•\tSteps:\n",
    "\t1.\tCalculate the IQR:  \\text{IQR} = Q3 - Q1 , where  Q1  is the first quartile (25th percentile) and  Q3  is the third quartile (75th percentile).\n",
    "\t2.\tDefine the bounds for outliers:\n",
    "\t•\tLower Bound:  Q1 - 1.5 \\times \\text{IQR} \n",
    "\t•\tUpper Bound:  Q3 + 1.5 \\times \\text{IQR} \n",
    "\t3.\tAny value outside these bounds is considered an outlier."
   ]
  },
  {
   "cell_type": "code",
   "execution_count": 6,
   "metadata": {},
   "outputs": [
    {
     "name": "stdout",
     "output_type": "stream",
     "text": [
      "27 39 51\n",
      "24\n",
      "-9.0 63.0\n"
     ]
    }
   ],
   "source": [
    "# Interquartile Range (IQR) Method\n",
    "def median(a):\n",
    "    if len(a) % 2 != 0:\n",
    "        return a[len(a) // 2]\n",
    "    result = ((a[len(a) // 2] + a[len(a) // 2 - 1]))/ 2\n",
    "    return int(result)\n",
    "\n",
    "\n",
    "def quartiles(arr):\n",
    "    # Write your code here\n",
    "    arr = sorted(arr)\n",
    "    q1 = []\n",
    "    q2 = []\n",
    "    q3 = []\n",
    "    n = len(arr)\n",
    "    if n % 2 == 0:\n",
    "        for i, e in enumerate(arr):\n",
    "            if i < n // 2:\n",
    "                q1.append(e)\n",
    "            if i >= n // 2:\n",
    "                q3.append(e)\n",
    "        return median(q1), median(arr), median(q3)\n",
    "    else:\n",
    "        for i, e in enumerate(arr):\n",
    "            if i < n // 2:\n",
    "                q1.append(e)\n",
    "            if i == n // 2:\n",
    "                q2.append(e)\n",
    "            if i > n // 2:\n",
    "                q3.append(e)\n",
    "        return median(q1), median(q2), median(q3)\n",
    "\n",
    "sorted_age_smoking = sorted(age_smoking)\n",
    "unzipped_age = [entry[0] for entry in sorted_age_smoking]\n",
    "unzipped_smoking = [entry[1] for entry in sorted_age_smoking]\n",
    "\n",
    "q1, q2, q3 = quartiles(unzipped_age)\n",
    "print(q1, q2, q3)\n",
    "iqr = q3 - q1\n",
    "print(iqr)\n",
    "lower_bound = q1 - 1.5 * iqr\n",
    "upper_bound = q1 + 1.5 * iqr\n",
    "print(lower_bound, upper_bound)\n",
    "\n",
    "# no value is outside of the upper and lower bound hence there are no outliers in our dataset\n",
    "\n"
   ]
  },
  {
   "cell_type": "markdown",
   "metadata": {},
   "source": [
    "### Point Biserial Correlation Coefficient"
   ]
  },
  {
   "cell_type": "code",
   "execution_count": 11,
   "metadata": {},
   "outputs": [
    {
     "data": {
      "text/plain": [
       "-0.025028106089439197"
      ]
     },
     "execution_count": 11,
     "metadata": {},
     "output_type": "execute_result"
    }
   ],
   "source": [
    "# checking for statistical relationship (correlation coefficient) between smoking and age\n",
    "#\t \\bar{X}_1 : Mean age of smokers.\n",
    "\t# •\t \\bar{X}_0 : Mean age of non-smokers.\n",
    "\t# •\t s : Standard deviation of the age variable.\n",
    "\t# •\t n_1 : Number of smokers.\n",
    "\t# •\t n_0 : Number of non-smokers.\n",
    "\t# •\t n : Total number of observations.\n",
    " # stdev = np.std(data, ddof=1)\n",
    " \n",
    " \n",
    "import numpy as np\n",
    "smokers_age = [int(data[i][\"age\"]) for i, _ in enumerate(data) if data[i][\"smoker\"] == \"yes\"]\n",
    "non_smokers_age = [int(data[i][\"age\"]) for i, _ in enumerate(data) if data[i][\"smoker\"] == \"no\"]\n",
    "non_smokers_mean = np.mean(non_smokers_age)\n",
    "smokers_mean = np.mean(smokers_age)\n",
    "age_stdev = np.std(unzipped_age, ddof=0)\n",
    "num_of_observations = len(data)\n",
    "\n",
    "pbc_coeff = ((smokers_mean - non_smokers_mean) / age_stdev) * ((num_smokers * num_non_smokers) / (num_of_observations * (num_of_observations - 1))) ** 0.5\n",
    "pbc_coeff\n",
    "\n",
    "\n",
    "\n",
    "\n",
    "\n",
    "\n"
   ]
  },
  {
   "cell_type": "markdown",
   "metadata": {},
   "source": [
    "*No significant correlation between age and smoking has been proven as pbc_coefficient is close to zero*"
   ]
  },
  {
   "cell_type": "markdown",
   "metadata": {},
   "source": [
    "\t4.\tBMI Impact on Smoking and Insurance Costs:\n",
    "Explore how BMI varies between smokers and non-smokers and how it influences insurance charges.\n",
    "\n",
    "1. Steps for gauging variance:\n",
    "\n",
    "\t1.\tCompute the mean BMI ( \\mu ).\n",
    "\t2.\tSubtract the mean from each BMI value to find the deviations.\n",
    "\t3.\tSquare the deviations and compute their average (adjusted by  n - 1  for a sample).\n",
    "\n",
    "2. Gauge BMI’s Influence on Insurance Charges\n",
    "\n",
    "## Step 1: Calculate Pearson Correlation Coefficient ( r )\n",
    "\n",
    "The Pearson correlation coefficient quantifies the linear relationship between BMI and insurance charges."
   ]
  },
  {
   "cell_type": "code",
   "execution_count": 35,
   "metadata": {},
   "outputs": [
    {
     "name": "stdout",
     "output_type": "stream",
     "text": [
      "BMI variance: 37.19\n",
      "Correlation is effectively non-existent: -0.00025612375974814555\n"
     ]
    }
   ],
   "source": [
    "# bmi variance\n",
    "bmis = [float(data[i][\"bmi\"]) for i, entry in enumerate(data)]\n",
    "bmi_mean = np.mean(bmis)\n",
    "dev_sum = 0\n",
    "for e in bmis:\n",
    "    dev_sum += (e - bmi_mean) ** 2\n",
    "bmi_var = dev_sum / (len(bmis) - 1)\n",
    "print(f\"BMI variance: {bmi_var:.2f}\")\n",
    "\n",
    "# Pearson Correlation Coefficient (pcc_r) to quantify the linear relationship bw BMI and insurance charges\n",
    "insurance_charges = [float(data[i][\"charges\"]) for i, entry in enumerate(data)]\n",
    "charges_mean = np.mean(insurance_charges)\n",
    "\n",
    "# top sum of the equation\n",
    "top_sum = 0\n",
    "for i, _ in enumerate(bmis):\n",
    "    top_sum = (bmis[i] - bmi_mean) * (insurance_charges[i] - charges_mean)\n",
    "\n",
    "left_bottom_sum = 0\n",
    "for var in bmis:\n",
    "    left_bottom_sum += (var - bmi_mean) ** 2\n",
    "right_bottom_sum = 0\n",
    "for var in insurance_charges:\n",
    "    right_bottom_sum += (var - charges_mean) ** 2\n",
    "\n",
    "pcc_r = top_sum / ((left_bottom_sum * right_bottom_sum) ** 0.5)\n",
    "\n",
    "print(f\"Correlation is effectively non-existent: {pcc_r}\")\n",
    "\n"
   ]
  },
  {
   "cell_type": "markdown",
   "metadata": {},
   "source": [
    "## Step 2: Fit a Linear Regression Model\n",
    "\n",
    "y = b0 + b1 * x + e"
   ]
  },
  {
   "cell_type": "code",
   "execution_count": 40,
   "metadata": {},
   "outputs": [
    {
     "data": {
      "text/plain": [
       "(-0.5086202921386634, 13286.018291010656)"
      ]
     },
     "execution_count": 40,
     "metadata": {},
     "output_type": "execute_result"
    }
   ],
   "source": [
    "# calculate slope b1\n",
    "\n",
    "b1 = top_sum / left_bottom_sum\n",
    "\n",
    "b0 = charges_mean - b1 * bmi_mean\n",
    "\n",
    "b1, b0"
   ]
  },
  {
   "cell_type": "markdown",
   "metadata": {},
   "source": [
    "Resulting linear regression equation: \n",
    "\n",
    "y = 13286 - 0.5 * x"
   ]
  },
  {
   "cell_type": "markdown",
   "metadata": {},
   "source": [
    "\t5.\tChildren’s Influence on Costs:\n",
    "Analyze whether the number of children affects insurance costs differently for smokers versus non-smokers.\n",
    "\t\n",
    "\t\t- for each children number calculate mean insurance costs for smokers and non-smokers, and\n",
    "\t\t\n",
    "\t\t- compare the resulting values"
   ]
  },
  {
   "cell_type": "code",
   "execution_count": 116,
   "metadata": {},
   "outputs": [
    {
     "name": "stdout",
     "output_type": "stream",
     "text": [
      "0 children: mean of insurance costs for: smokers = 31341.36; non-smokers = 7611.79\n",
      "1 children: mean of insurance costs for: smokers = 31822.65; non-smokers = 8303.11\n",
      "2 children: mean of insurance costs for: smokers = 33844.24; non-smokers = 9493.09\n",
      "3 children: mean of insurance costs for: smokers = 32724.92; non-smokers = 9614.52\n",
      "4 children: mean of insurance costs for: smokers = 26532.28; non-smokers = 12121.34\n",
      "5 children: mean of insurance costs for: smokers = 19023.26; non-smokers = 8183.85\n"
     ]
    }
   ],
   "source": [
    "# build a dictionary with children num as keys and values as dictionaries of corresponding persons\n",
    "\n",
    "children_num_list = [entry[\"children\"] for i, entry in enumerate(data)]\n",
    "max(children_num_list)\n",
    "# max 5 children\n",
    "\n",
    "children_num_dict = {\n",
    "    0: [],\n",
    "    1: [],\n",
    "    2: [],\n",
    "    3: [],\n",
    "    4: [],\n",
    "    5: []\n",
    "}\n",
    "for index, entry in enumerate(data):\n",
    "    if entry[\"children\"] == \"0\":\n",
    "        children_num_dict[0].append((entry[\"charges\"], entry[\"smoker\"]))\n",
    "    if entry[\"children\"] == \"1\":\n",
    "        children_num_dict[1].append((entry[\"charges\"], entry[\"smoker\"]))\n",
    "    if entry[\"children\"] == \"2\":\n",
    "        children_num_dict[2].append((entry[\"charges\"], entry[\"smoker\"]))\n",
    "    if entry[\"children\"] == \"3\":\n",
    "        children_num_dict[3].append((entry[\"charges\"], entry[\"smoker\"]))\n",
    "    if entry[\"children\"] == \"4\":\n",
    "        children_num_dict[4].append((entry[\"charges\"], entry[\"smoker\"]))\n",
    "    if entry[\"children\"] == \"5\":\n",
    "        children_num_dict[5].append((entry[\"charges\"], entry[\"smoker\"]))\n",
    "\n",
    "\n",
    "# build lists for costs of smokers and non-smokers per each children group\n",
    "zero_children_lst_smokers = [float(value[i][0]) for key, value in children_num_dict.items() for i in range(len(children_num_dict[0])) if key == 0 and value[i][1] == \"yes\"]\n",
    "zero_children_lst_non_smokers = [float(value[i][0]) for key, value in children_num_dict.items() for i in range(len(children_num_dict[0])) if key == 0 and value[i][1] == \"no\"]\n",
    "\n",
    "one_children_lst_smokers = [float(value[i][0]) for key, value in children_num_dict.items() for i in range(len(children_num_dict[1])) if key == 1 and value[i][1] == \"yes\"]\n",
    "one_children_lst_non_smokers = [float(value[i][0]) for key, value in children_num_dict.items() for i in range(len(children_num_dict[1])) if key == 1 and value[i][1] == \"no\"]\n",
    "\n",
    "\n",
    "two_children_lst_smokers = [float(value[i][0]) for key, value in children_num_dict.items() for i in range(len(children_num_dict[2])) if key == 2 and value[i][1] == \"yes\"]\n",
    "two_children_lst_non_smokers = [float(value[i][0]) for key, value in children_num_dict.items() for i in range(len(children_num_dict[2])) if key == 2 and value[i][1] == \"no\"]\n",
    "\n",
    "\n",
    "three_children_lst_smokers = [float(value[i][0]) for key, value in children_num_dict.items() for i in range(len(children_num_dict[3])) if key == 3 and value[i][1] == \"yes\"]\n",
    "three_children_lst_non_smokers = [float(value[i][0]) for key, value in children_num_dict.items() for i in range(len(children_num_dict[3])) if key == 3 and value[i][1] == \"no\"]\n",
    "\n",
    "\n",
    "four_children_lst_smokers = [float(value[i][0]) for key, value in children_num_dict.items() for i in range(len(children_num_dict[4])) if key == 4 and value[i][1] == \"yes\"]\n",
    "four_children_lst_non_smokers = [float(value[i][0]) for key, value in children_num_dict.items() for i in range(len(children_num_dict[4])) if key == 4 and value[i][1] == \"no\"]\n",
    "\n",
    "\n",
    "five_children_lst_smokers = [float(value[i][0]) for key, value in children_num_dict.items() for i in range(len(children_num_dict[5])) if key == 5 and value[i][1] == \"yes\"]\n",
    "five_children_lst_non_smokers = [float(value[i][0]) for key, value in children_num_dict.items() for i in range(len(children_num_dict[5])) if key == 5 and value[i][1] == \"no\"]\n",
    "\n",
    "\n",
    "# # append mean insurance costs for smokers and non smokers to the children num dict\n",
    "children_num_dict[0].extend([np.mean(zero_children_lst_smokers), np.mean(zero_children_lst_non_smokers)])\n",
    "children_num_dict[1].extend([np.mean(one_children_lst_smokers), np.mean(one_children_lst_non_smokers)])\n",
    "children_num_dict[2].extend([np.mean(two_children_lst_smokers), np.mean(two_children_lst_non_smokers)])\n",
    "children_num_dict[3].extend([np.mean(three_children_lst_smokers), np.mean(three_children_lst_non_smokers)])\n",
    "children_num_dict[4].extend([np.mean(four_children_lst_smokers), np.mean(four_children_lst_non_smokers)])\n",
    "children_num_dict[5].extend([np.mean(five_children_lst_smokers), np.mean(five_children_lst_non_smokers)])\n",
    "\n",
    "for key, value in children_num_dict.items():\n",
    "    print(f\"{key} children: mean of insurance costs for: smokers = {value[-2]:.2f}; non-smokers = {value[-1]:.2f}\")"
   ]
  },
  {
   "cell_type": "markdown",
   "metadata": {},
   "source": [
    "What do the above gauges tell me about the data?"
   ]
  },
  {
   "cell_type": "markdown",
   "metadata": {},
   "source": [
    "Key Observations:\n",
    "\n",
    "\t1.\tSignificant Cost Disparity Between Smokers and Non-Smokers:\n",
    "\t•\tFor all child counts, smokers pay substantially higher insurance costs than non-smokers. This aligns with the expectation that smoking is a major health risk, leading to higher insurance premiums.\n",
    "\t•\tThe gap is stark:\n",
    "\t•\tFor 0 children, smokers pay about 4 times more on average than non-smokers.\n",
    "\t•\tFor 1 and 2 children, the difference remains high, though slightly less pronounced.\n",
    "\t2.\tCost Trends as the Number of Children Increases:\n",
    "\t•\tFor smokers:\n",
    "\t•\tCosts initially increase with more children (peaking at 2 children,  \\sim33,844 ), then decline notably as the number of children reaches 4 or 5.\n",
    "\t•\tThis could indicate:\n",
    "\t•\tDiscounts or adjustments offered for families with more dependents.\n",
    "\t•\tPotential data anomalies or fewer smokers with larger families (causing sample size issues).\n",
    "\t•\tFor non-smokers:\n",
    "\t•\tCosts rise steadily up to 4 children ( \\sim12,121 ), reflecting a more consistent relationship between the number of dependents and costs.\n",
    "\t3.\tLower Costs for Smokers with More Children (4 or 5):\n",
    "\t•\tSmokers with 4 or 5 children incur notably lower insurance costs than smokers with fewer children.\n",
    "\t•\tPossible explanations:\n",
    "\t•\tInsurers may apply family-specific pricing structures that offset smoking penalties for larger households.\n",
    "\t•\tSmokers with larger families might have other mitigating factors (e.g., lower BMI, younger age, different regions)."
   ]
  }
 ],
 "metadata": {
  "kernelspec": {
   "display_name": "base",
   "language": "python",
   "name": "python3"
  },
  "language_info": {
   "codemirror_mode": {
    "name": "ipython",
    "version": 3
   },
   "file_extension": ".py",
   "mimetype": "text/x-python",
   "name": "python",
   "nbconvert_exporter": "python",
   "pygments_lexer": "ipython3",
   "version": "3.12.7"
  }
 },
 "nbformat": 4,
 "nbformat_minor": 4
}
